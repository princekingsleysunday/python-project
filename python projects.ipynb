{
 "cells": [
  {
   "cell_type": "markdown",
   "id": "fb3d47ad",
   "metadata": {},
   "source": [
    "## Guess the number game\n",
    "### The code below helps to generate a random number.\n"
   ]
  },
  {
   "cell_type": "markdown",
   "id": "d67dc9cc",
   "metadata": {},
   "source": [
    "the try and except function helps to prevent the code from crashing incase a str is input instead of an integer"
   ]
  },
  {
   "cell_type": "code",
   "execution_count": 9,
   "id": "1fca085c",
   "metadata": {},
   "outputs": [
    {
     "name": "stdout",
     "output_type": "stream",
     "text": [
      "YOU HAVE 5 TRIALS\n",
      "Enter input 7\n",
      "you are away\n",
      "Enter input 8\n",
      "you are close\n",
      "Enter input 6\n",
      "you are away\n",
      "Enter input 10\n",
      "congratulations\n"
     ]
    }
   ],
   "source": [
    "import random\n",
    "variable = random.randint(5,10)\n",
    "\n",
    "number_of_trials = 5\n",
    "print('YOU HAVE 5 TRIALS')\n",
    "try:\n",
    "    for i in range(number_of_trials):\n",
    "      user_input = int(input('Enter input '))\n",
    "      if (user_input == variable-2) or (user_input == variable +2):\n",
    "        print('you are close')\n",
    "      elif (user_input >= variable+2) or (user_input <= variable-2):\n",
    "        print('you are away')\n",
    "      elif user_input == variable:\n",
    "        print('congratulations')\n",
    "        break\n",
    "      else:\n",
    "        print (\"Try Again!\")\n",
    "except:\n",
    "    print('You did not enter an integer')"
   ]
  },
  {
   "cell_type": "markdown",
   "id": "54b3f927",
   "metadata": {},
   "source": [
    "## code for creating a password using python.\n",
    "\n"
   ]
  },
  {
   "cell_type": "code",
   "execution_count": 8,
   "id": "424d908c",
   "metadata": {},
   "outputs": [
    {
     "name": "stdout",
     "output_type": "stream",
     "text": [
      "enter a password length: 6\n"
     ]
    }
   ],
   "source": [
    "## generating password\n",
    "\n",
    "import random\n",
    "possible_char = \"'asdfghjkqwertyuio12345678';lkjhgfcvbnm,234567890-0987=\"\n",
    "\n",
    "password = ''\n",
    "password_length = int(input('enter a password length: '))\n",
    "i = 1\n",
    "while (i <= password_length):\n",
    "    password += random.choice(possible_char)\n",
    "    i += 1\n",
    "    \n",
    "    ## now to store password in a txt format\n",
    "    \n",
    "with open('password.txt', 'w') as my_file:\n",
    "    my_file.write(password)\n",
    "    \n",
    "## the file will save on the folder where the file was directed to be saved"
   ]
  },
  {
   "cell_type": "code",
   "execution_count": null,
   "id": "4918fe3b",
   "metadata": {},
   "outputs": [],
   "source": []
  }
 ],
 "metadata": {
  "kernelspec": {
   "display_name": "Python 3 (ipykernel)",
   "language": "python",
   "name": "python3"
  },
  "language_info": {
   "codemirror_mode": {
    "name": "ipython",
    "version": 3
   },
   "file_extension": ".py",
   "mimetype": "text/x-python",
   "name": "python",
   "nbconvert_exporter": "python",
   "pygments_lexer": "ipython3",
   "version": "3.9.12"
  }
 },
 "nbformat": 4,
 "nbformat_minor": 5
}
